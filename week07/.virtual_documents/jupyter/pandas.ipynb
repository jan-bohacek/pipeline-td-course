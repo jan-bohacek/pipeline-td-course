import pandas as pd
import numpy as np


series = pd.Series(["John", "Carl", "Susan"])
series


names = pd.Series(["John", "Carl", "Susan"])
age = pd.Series([23, 50, 35])
gender = pd.Series(["M", "M", "F"])


people_data = pd.DataFrame({"Name":names, "Age":age, "Gender":gender})
people_data





! ls ../datasets


sentiment_dataset = pd.read_csv("../datasets/sentiment_data.csv")


sentiment_dataset.head()






