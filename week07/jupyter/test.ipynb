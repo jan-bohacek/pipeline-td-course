{
 "cells": [
  {
   "cell_type": "markdown",
   "id": "2ceec332-c1f1-4753-9017-75992e6103aa",
   "metadata": {},
   "source": [
    "# Intro"
   ]
  },
  {
   "cell_type": "markdown",
   "id": "badc9390-abdf-4b82-a08e-d452afb7c674",
   "metadata": {},
   "source": [
    "I'm going to be testing jupyter here. Let's start by simple code tests:"
   ]
  },
  {
   "cell_type": "code",
   "execution_count": null,
   "id": "e44069b5-3e7b-4468-a47b-e70753aa2ae7",
   "metadata": {},
   "outputs": [],
   "source": [
    "import os"
   ]
  },
  {
   "cell_type": "code",
   "execution_count": null,
   "id": "8bd806fa-fca8-4c02-960c-e847c9028be1",
   "metadata": {},
   "outputs": [
    {
     "name": "stdout",
     "output_type": "stream",
     "text": [
      "Username is < janbo >\n"
     ]
    }
   ],
   "source": [
    "user = os.getlogin()\n",
    "print(f\"Username is < {user} >\")"
   ]
  },
  {
   "cell_type": "code",
   "execution_count": 3,
   "id": "966cc2a2-1ce8-4f47-90af-8782b74b9ab7",
   "metadata": {},
   "outputs": [],
   "source": [
    "a = 5\n",
    "b = 10"
   ]
  },
  {
   "cell_type": "code",
   "execution_count": 6,
   "id": "7c220f7a-9233-4d30-a7c7-2a4455fefe90",
   "metadata": {
    "scrolled": true
   },
   "outputs": [
    {
     "name": "stdout",
     "output_type": "stream",
     "text": [
      "50\n",
      "15\n",
      "35\n"
     ]
    }
   ],
   "source": [
    "print(a * b)\n",
    "print(a + b)\n",
    "print(a**2 + b)"
   ]
  },
  {
   "cell_type": "markdown",
   "id": "259bb3dc-5c63-4c9d-8c26-e66bc4378058",
   "metadata": {},
   "source": [
    "Now, let's test if the environment works:"
   ]
  },
  {
   "cell_type": "code",
   "execution_count": 2,
   "id": "24ba69fa-d6bd-43dc-b15c-dc5e2db50b3e",
   "metadata": {
    "jupyter": {
     "source_hidden": true
    }
   },
   "outputs": [],
   "source": [
    "import pandas as pd"
   ]
  },
  {
   "cell_type": "code",
   "execution_count": 3,
   "id": "d4e47a67-db53-4117-8c9f-d2fd560f74cf",
   "metadata": {
    "collapsed": true,
    "jupyter": {
     "outputs_hidden": true
    }
   },
   "outputs": [
    {
     "name": "stdout",
     "output_type": "stream",
     "text": [
      "# packages in environment at C:\\Users\\janbo\\anaconda3\\envs\\data-env:\n",
      "#\n",
      "# Name                    Version                   Build  Channel\n",
      "anyio                     4.9.0                    pypi_0    pypi\n",
      "argon2-cffi               23.1.0                   pypi_0    pypi\n",
      "argon2-cffi-bindings      21.2.0                   pypi_0    pypi\n",
      "arrow                     1.3.0                    pypi_0    pypi\n",
      "asttokens                 3.0.0                    pypi_0    pypi\n",
      "async-lru                 2.0.5                    pypi_0    pypi\n",
      "attrs                     25.3.0                   pypi_0    pypi\n",
      "babel                     2.17.0                   pypi_0    pypi\n",
      "beautifulsoup4            4.13.4                   pypi_0    pypi\n",
      "bleach                    6.2.0                    pypi_0    pypi\n",
      "bzip2                     1.0.8                h2bbff1b_6  \n",
      "ca-certificates           2025.2.25            haa95532_0  \n",
      "certifi                   2025.1.31                pypi_0    pypi\n",
      "cffi                      1.17.1                   pypi_0    pypi\n",
      "charset-normalizer        3.4.1                    pypi_0    pypi\n",
      "colorama                  0.4.6                    pypi_0    pypi\n",
      "comm                      0.2.2                    pypi_0    pypi\n",
      "debugpy                   1.8.14                   pypi_0    pypi\n",
      "decorator                 5.2.1                    pypi_0    pypi\n",
      "defusedxml                0.7.1                    pypi_0    pypi\n",
      "executing                 2.2.0                    pypi_0    pypi\n",
      "fastjsonschema            2.21.1                   pypi_0    pypi\n",
      "fqdn                      1.5.1                    pypi_0    pypi\n",
      "h11                       0.14.0                   pypi_0    pypi\n",
      "httpcore                  1.0.8                    pypi_0    pypi\n",
      "httpx                     0.28.1                   pypi_0    pypi\n",
      "idna                      3.10                     pypi_0    pypi\n",
      "ipykernel                 6.29.5                   pypi_0    pypi\n",
      "ipython                   9.1.0                    pypi_0    pypi\n",
      "ipython-pygments-lexers   1.1.1                    pypi_0    pypi\n",
      "isoduration               20.11.0                  pypi_0    pypi\n",
      "jedi                      0.19.2                   pypi_0    pypi\n",
      "jinja2                    3.1.6                    pypi_0    pypi\n",
      "json5                     0.12.0                   pypi_0    pypi\n",
      "jsonpointer               3.0.0                    pypi_0    pypi\n",
      "jsonschema                4.23.0                   pypi_0    pypi\n",
      "jsonschema-specifications 2024.10.1                pypi_0    pypi\n",
      "jupyter-client            8.6.3                    pypi_0    pypi\n",
      "jupyter-core              5.7.2                    pypi_0    pypi\n",
      "jupyter-events            0.12.0                   pypi_0    pypi\n",
      "jupyter-lsp               2.2.5                    pypi_0    pypi\n",
      "jupyter-server            2.15.0                   pypi_0    pypi\n",
      "jupyter-server-terminals  0.5.3                    pypi_0    pypi\n",
      "jupyterlab                4.4.0                    pypi_0    pypi\n",
      "jupyterlab-pygments       0.3.0                    pypi_0    pypi\n",
      "jupyterlab-server         2.27.3                   pypi_0    pypi\n",
      "libffi                    3.4.4                hd77b12b_1  \n",
      "markupsafe                3.0.2                    pypi_0    pypi\n",
      "matplotlib-inline         0.1.7                    pypi_0    pypi\n",
      "mistune                   3.1.3                    pypi_0    pypi\n",
      "nbclient                  0.10.2                   pypi_0    pypi\n",
      "nbconvert                 7.16.6                   pypi_0    pypi\n",
      "nbformat                  5.10.4                   pypi_0    pypi\n",
      "nest-asyncio              1.6.0                    pypi_0    pypi\n",
      "notebook-shim             0.2.4                    pypi_0    pypi\n",
      "numpy                     1.24.4                   pypi_0    pypi\n",
      "openssl                   3.0.16               h3f729d1_0  \n",
      "overrides                 7.7.0                    pypi_0    pypi\n",
      "packaging                 24.2                     pypi_0    pypi\n",
      "pandas                    2.2.3                    pypi_0    pypi\n",
      "pandocfilters             1.5.1                    pypi_0    pypi\n",
      "parso                     0.8.4                    pypi_0    pypi\n",
      "pip                       25.0            py311haa95532_0  \n",
      "platformdirs              4.3.7                    pypi_0    pypi\n",
      "prometheus-client         0.21.1                   pypi_0    pypi\n",
      "prompt-toolkit            3.0.51                   pypi_0    pypi\n",
      "psutil                    7.0.0                    pypi_0    pypi\n",
      "pure-eval                 0.2.3                    pypi_0    pypi\n",
      "pycparser                 2.22                     pypi_0    pypi\n",
      "pygments                  2.19.1                   pypi_0    pypi\n",
      "python                    3.11.7               he1021f5_0  \n",
      "python-dateutil           2.9.0.post0              pypi_0    pypi\n",
      "python-json-logger        3.3.0                    pypi_0    pypi\n",
      "pytz                      2025.2                   pypi_0    pypi\n",
      "pywin32                   310                      pypi_0    pypi\n",
      "pywinpty                  2.0.15                   pypi_0    pypi\n",
      "pyyaml                    6.0.2                    pypi_0    pypi\n",
      "pyzmq                     26.4.0                   pypi_0    pypi\n",
      "referencing               0.36.2                   pypi_0    pypi\n",
      "requests                  2.32.3                   pypi_0    pypi\n",
      "rfc3339-validator         0.1.4                    pypi_0    pypi\n",
      "rfc3986-validator         0.1.1                    pypi_0    pypi\n",
      "rpds-py                   0.24.0                   pypi_0    pypi\n",
      "send2trash                1.8.3                    pypi_0    pypi\n",
      "setuptools                75.8.0          py311haa95532_0  \n",
      "six                       1.17.0                   pypi_0    pypi\n",
      "sniffio                   1.3.1                    pypi_0    pypi\n",
      "soupsieve                 2.6                      pypi_0    pypi\n",
      "sqlite                    3.45.3               h2bbff1b_0  \n",
      "stack-data                0.6.3                    pypi_0    pypi\n",
      "terminado                 0.18.1                   pypi_0    pypi\n",
      "tinycss2                  1.4.0                    pypi_0    pypi\n",
      "tk                        8.6.14               h0416ee5_0  \n",
      "tornado                   6.4.2                    pypi_0    pypi\n",
      "traitlets                 5.14.3                   pypi_0    pypi\n",
      "types-python-dateutil     2.9.0.20241206           pypi_0    pypi\n",
      "typing-extensions         4.13.2                   pypi_0    pypi\n",
      "tzdata                    2025.2                   pypi_0    pypi\n",
      "uri-template              1.3.0                    pypi_0    pypi\n",
      "urllib3                   2.4.0                    pypi_0    pypi\n",
      "vc                        14.42                haa95532_5  \n",
      "vs2015_runtime            14.42.34433          hbfb602d_5  \n",
      "wcwidth                   0.2.13                   pypi_0    pypi\n",
      "webcolors                 24.11.1                  pypi_0    pypi\n",
      "webencodings              0.5.1                    pypi_0    pypi\n",
      "websocket-client          1.8.0                    pypi_0    pypi\n",
      "wheel                     0.45.1          py311haa95532_0  \n",
      "xz                        5.6.4                h4754444_1  \n",
      "zlib                      1.2.13               h8cc25b3_1  \n"
     ]
    }
   ],
   "source": [
    "!conda list"
   ]
  },
  {
   "cell_type": "code",
   "execution_count": 23,
   "id": "9cf623fc-7fe1-4657-bb7e-69f504b44bed",
   "metadata": {
    "scrolled": true
   },
   "outputs": [
    {
     "name": "stdout",
     "output_type": "stream",
     "text": [
      "CPU times: total: 62.5 ms\n",
      "Wall time: 60.8 ms\n"
     ]
    }
   ],
   "source": [
    "def fun(x):\n",
    "    i = 0\n",
    "    for i in range(x):\n",
    "        i = i**2\n",
    "\n",
    "%time fun(1000000)\n"
   ]
  },
  {
   "cell_type": "code",
   "execution_count": null,
   "id": "78e7c0ae-26b3-4ef5-b71a-32cf45baa2af",
   "metadata": {},
   "outputs": [],
   "source": []
  }
 ],
 "metadata": {
  "kernelspec": {
   "display_name": "Python 3 (ipykernel)",
   "language": "python",
   "name": "python3"
  },
  "language_info": {
   "codemirror_mode": {
    "name": "ipython",
    "version": 3
   },
   "file_extension": ".py",
   "mimetype": "text/x-python",
   "name": "python",
   "nbconvert_exporter": "python",
   "pygments_lexer": "ipython3",
   "version": "3.11.7"
  }
 },
 "nbformat": 4,
 "nbformat_minor": 5
}
