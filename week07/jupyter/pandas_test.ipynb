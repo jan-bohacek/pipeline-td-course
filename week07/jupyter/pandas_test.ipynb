{
 "cells": [
  {
   "cell_type": "code",
   "execution_count": 106,
   "id": "6106c24c-14cd-4c8c-a5d5-9f0b4b36f96f",
   "metadata": {},
   "outputs": [],
   "source": [
    "import pandas as pd\n",
    "import numpy as np"
   ]
  },
  {
   "cell_type": "code",
   "execution_count": 107,
   "id": "89c844d7-54ba-4d84-95e4-aa46fd3749f7",
   "metadata": {},
   "outputs": [],
   "source": [
    "num = np.int8(32)"
   ]
  },
  {
   "cell_type": "code",
   "execution_count": 108,
   "id": "1c2a58b7-2547-4830-a9df-7f4c4edc7ca0",
   "metadata": {},
   "outputs": [
    {
     "data": {
      "text/plain": [
       "32"
      ]
     },
     "execution_count": 108,
     "metadata": {},
     "output_type": "execute_result"
    }
   ],
   "source": [
    "num"
   ]
  },
  {
   "cell_type": "code",
   "execution_count": 109,
   "id": "f4ef433d-140a-4eb0-9291-1a8e4e037b4a",
   "metadata": {},
   "outputs": [
    {
     "data": {
      "text/plain": [
       "dtype('int8')"
      ]
     },
     "execution_count": 109,
     "metadata": {},
     "output_type": "execute_result"
    }
   ],
   "source": [
    "num.dtype"
   ]
  },
  {
   "cell_type": "code",
   "execution_count": 110,
   "id": "d4a746cb-d81b-425d-a018-fc38efabfe1d",
   "metadata": {},
   "outputs": [],
   "source": [
    "num = num.astype(np.int32)"
   ]
  },
  {
   "cell_type": "code",
   "execution_count": 111,
   "id": "552338e1-20c0-4038-8425-36c4d7c58a87",
   "metadata": {},
   "outputs": [
    {
     "data": {
      "text/plain": [
       "32"
      ]
     },
     "execution_count": 111,
     "metadata": {},
     "output_type": "execute_result"
    }
   ],
   "source": [
    "num"
   ]
  },
  {
   "cell_type": "code",
   "execution_count": 112,
   "id": "8504c110-74d3-4364-b8bd-b48f7d397ddb",
   "metadata": {},
   "outputs": [
    {
     "data": {
      "text/plain": [
       "dtype('int32')"
      ]
     },
     "execution_count": 112,
     "metadata": {},
     "output_type": "execute_result"
    }
   ],
   "source": [
    "num.dtype"
   ]
  },
  {
   "cell_type": "code",
   "execution_count": 113,
   "id": "7314f5de-99e0-4de2-97e4-7ec9ee33458b",
   "metadata": {},
   "outputs": [],
   "source": [
    "studios = pd.Series([\"dneg\", \"ilm\", \"framestore\", \"rodeo\", \"mpc\"])\n",
    "employees = pd.Series([2043, 1620, 1450, 850, 0])\n",
    "status = pd.Series([\"active\", \"active\", \"active\", \"active\", \"closed\"])\n",
    "branches = pd.Series([[\"mtl\", \"syd\", \"mum\"], [\"lnd\", \"van\", \"syd\"], [\"mtl\", \"lnd\", \"mlb\"], [\"mtl\", \"par\"], []])"
   ]
  },
  {
   "cell_type": "code",
   "execution_count": 114,
   "id": "840d0c57-80d6-4cbc-8be2-74b6e09acd9f",
   "metadata": {},
   "outputs": [],
   "source": [
    "vfx_studios = pd.DataFrame({\"studio\":studios, \"employees\":employees, \"status\":status, \"branches\":branches})"
   ]
  },
  {
   "cell_type": "code",
   "execution_count": 115,
   "id": "7492315b-7c75-46c6-9576-222749a0466f",
   "metadata": {},
   "outputs": [
    {
     "data": {
      "text/html": [
       "<div>\n",
       "<style scoped>\n",
       "    .dataframe tbody tr th:only-of-type {\n",
       "        vertical-align: middle;\n",
       "    }\n",
       "\n",
       "    .dataframe tbody tr th {\n",
       "        vertical-align: top;\n",
       "    }\n",
       "\n",
       "    .dataframe thead th {\n",
       "        text-align: right;\n",
       "    }\n",
       "</style>\n",
       "<table border=\"1\" class=\"dataframe\">\n",
       "  <thead>\n",
       "    <tr style=\"text-align: right;\">\n",
       "      <th></th>\n",
       "      <th>studio</th>\n",
       "      <th>employees</th>\n",
       "      <th>status</th>\n",
       "      <th>branches</th>\n",
       "    </tr>\n",
       "  </thead>\n",
       "  <tbody>\n",
       "    <tr>\n",
       "      <th>0</th>\n",
       "      <td>dneg</td>\n",
       "      <td>2043</td>\n",
       "      <td>active</td>\n",
       "      <td>[mtl, syd, mum]</td>\n",
       "    </tr>\n",
       "    <tr>\n",
       "      <th>1</th>\n",
       "      <td>ilm</td>\n",
       "      <td>1620</td>\n",
       "      <td>active</td>\n",
       "      <td>[lnd, van, syd]</td>\n",
       "    </tr>\n",
       "    <tr>\n",
       "      <th>2</th>\n",
       "      <td>framestore</td>\n",
       "      <td>1450</td>\n",
       "      <td>active</td>\n",
       "      <td>[mtl, lnd, mlb]</td>\n",
       "    </tr>\n",
       "    <tr>\n",
       "      <th>3</th>\n",
       "      <td>rodeo</td>\n",
       "      <td>850</td>\n",
       "      <td>active</td>\n",
       "      <td>[mtl, par]</td>\n",
       "    </tr>\n",
       "    <tr>\n",
       "      <th>4</th>\n",
       "      <td>mpc</td>\n",
       "      <td>0</td>\n",
       "      <td>closed</td>\n",
       "      <td>[]</td>\n",
       "    </tr>\n",
       "  </tbody>\n",
       "</table>\n",
       "</div>"
      ],
      "text/plain": [
       "       studio  employees  status         branches\n",
       "0        dneg       2043  active  [mtl, syd, mum]\n",
       "1         ilm       1620  active  [lnd, van, syd]\n",
       "2  framestore       1450  active  [mtl, lnd, mlb]\n",
       "3       rodeo        850  active       [mtl, par]\n",
       "4         mpc          0  closed               []"
      ]
     },
     "execution_count": 115,
     "metadata": {},
     "output_type": "execute_result"
    }
   ],
   "source": [
    "vfx_studios"
   ]
  },
  {
   "cell_type": "code",
   "execution_count": 116,
   "id": "329cb128-3618-4d0a-a586-059c09032efb",
   "metadata": {},
   "outputs": [
    {
     "data": {
      "text/html": [
       "<div>\n",
       "<style scoped>\n",
       "    .dataframe tbody tr th:only-of-type {\n",
       "        vertical-align: middle;\n",
       "    }\n",
       "\n",
       "    .dataframe tbody tr th {\n",
       "        vertical-align: top;\n",
       "    }\n",
       "\n",
       "    .dataframe thead th {\n",
       "        text-align: right;\n",
       "    }\n",
       "</style>\n",
       "<table border=\"1\" class=\"dataframe\">\n",
       "  <thead>\n",
       "    <tr style=\"text-align: right;\">\n",
       "      <th></th>\n",
       "      <th>studio</th>\n",
       "      <th>employees</th>\n",
       "      <th>status</th>\n",
       "      <th>branches</th>\n",
       "    </tr>\n",
       "  </thead>\n",
       "  <tbody>\n",
       "    <tr>\n",
       "      <th>0</th>\n",
       "      <td>dneg</td>\n",
       "      <td>2043</td>\n",
       "      <td>active</td>\n",
       "      <td>[mtl, syd, mum]</td>\n",
       "    </tr>\n",
       "    <tr>\n",
       "      <th>1</th>\n",
       "      <td>ilm</td>\n",
       "      <td>1620</td>\n",
       "      <td>active</td>\n",
       "      <td>[lnd, van, syd]</td>\n",
       "    </tr>\n",
       "  </tbody>\n",
       "</table>\n",
       "</div>"
      ],
      "text/plain": [
       "  studio  employees  status         branches\n",
       "0   dneg       2043  active  [mtl, syd, mum]\n",
       "1    ilm       1620  active  [lnd, van, syd]"
      ]
     },
     "execution_count": 116,
     "metadata": {},
     "output_type": "execute_result"
    }
   ],
   "source": [
    "vfx_studios[vfx_studios[\"employees\"] > 1500]"
   ]
  },
  {
   "cell_type": "code",
   "execution_count": 117,
   "id": "c893e05a-a3b0-47cc-b40e-4f7ef3568773",
   "metadata": {},
   "outputs": [
    {
     "name": "stdout",
     "output_type": "stream",
     "text": [
      "<class 'pandas.core.frame.DataFrame'>\n",
      "RangeIndex: 5 entries, 0 to 4\n",
      "Data columns (total 4 columns):\n",
      " #   Column     Non-Null Count  Dtype \n",
      "---  ------     --------------  ----- \n",
      " 0   studio     5 non-null      object\n",
      " 1   employees  5 non-null      int64 \n",
      " 2   status     5 non-null      object\n",
      " 3   branches   5 non-null      object\n",
      "dtypes: int64(1), object(3)\n",
      "memory usage: 292.0+ bytes\n"
     ]
    }
   ],
   "source": [
    "vfx_studios.info()"
   ]
  },
  {
   "cell_type": "code",
   "execution_count": 118,
   "id": "ee789252-9fbb-440b-86d1-65998bbe0af9",
   "metadata": {},
   "outputs": [
    {
     "data": {
      "text/html": [
       "<div>\n",
       "<style scoped>\n",
       "    .dataframe tbody tr th:only-of-type {\n",
       "        vertical-align: middle;\n",
       "    }\n",
       "\n",
       "    .dataframe tbody tr th {\n",
       "        vertical-align: top;\n",
       "    }\n",
       "\n",
       "    .dataframe thead th {\n",
       "        text-align: right;\n",
       "    }\n",
       "</style>\n",
       "<table border=\"1\" class=\"dataframe\">\n",
       "  <thead>\n",
       "    <tr style=\"text-align: right;\">\n",
       "      <th></th>\n",
       "      <th>employees</th>\n",
       "    </tr>\n",
       "  </thead>\n",
       "  <tbody>\n",
       "    <tr>\n",
       "      <th>count</th>\n",
       "      <td>5.00000</td>\n",
       "    </tr>\n",
       "    <tr>\n",
       "      <th>mean</th>\n",
       "      <td>1192.60000</td>\n",
       "    </tr>\n",
       "    <tr>\n",
       "      <th>std</th>\n",
       "      <td>792.42905</td>\n",
       "    </tr>\n",
       "    <tr>\n",
       "      <th>min</th>\n",
       "      <td>0.00000</td>\n",
       "    </tr>\n",
       "    <tr>\n",
       "      <th>25%</th>\n",
       "      <td>850.00000</td>\n",
       "    </tr>\n",
       "    <tr>\n",
       "      <th>50%</th>\n",
       "      <td>1450.00000</td>\n",
       "    </tr>\n",
       "    <tr>\n",
       "      <th>75%</th>\n",
       "      <td>1620.00000</td>\n",
       "    </tr>\n",
       "    <tr>\n",
       "      <th>max</th>\n",
       "      <td>2043.00000</td>\n",
       "    </tr>\n",
       "  </tbody>\n",
       "</table>\n",
       "</div>"
      ],
      "text/plain": [
       "        employees\n",
       "count     5.00000\n",
       "mean   1192.60000\n",
       "std     792.42905\n",
       "min       0.00000\n",
       "25%     850.00000\n",
       "50%    1450.00000\n",
       "75%    1620.00000\n",
       "max    2043.00000"
      ]
     },
     "execution_count": 118,
     "metadata": {},
     "output_type": "execute_result"
    }
   ],
   "source": [
    "vfx_studios.describe()"
   ]
  },
  {
   "cell_type": "code",
   "execution_count": 119,
   "id": "505a7de2-a57e-4003-849d-e57cf20ebfab",
   "metadata": {},
   "outputs": [
    {
     "data": {
      "text/plain": [
       "['lnd', 'van', 'syd']"
      ]
     },
     "execution_count": 119,
     "metadata": {},
     "output_type": "execute_result"
    }
   ],
   "source": [
    "vfx_studios.loc[1][\"branches\"]"
   ]
  },
  {
   "cell_type": "code",
   "execution_count": 120,
   "id": "b33c40e7-b6f3-44d4-9a3c-7f957c300adb",
   "metadata": {},
   "outputs": [
    {
     "data": {
      "text/plain": [
       "True"
      ]
     },
     "execution_count": 120,
     "metadata": {},
     "output_type": "execute_result"
    }
   ],
   "source": [
    "\"syd\" in vfx_studios.loc[1][\"branches\"]"
   ]
  },
  {
   "cell_type": "code",
   "execution_count": 121,
   "id": "813fe988-fc2c-416e-9182-a441157b1450",
   "metadata": {},
   "outputs": [],
   "source": [
    "for idx, branches in enumerate(vfx_studios[\"branches\"]):\n",
    "    if \"syd\" in branches:\n",
    "        vfx_studios.loc[idx, \"has_syd_branch\"] = True\n",
    "    else:\n",
    "        vfx_studios.loc[idx, \"has_syd_branch\"] = False"
   ]
  },
  {
   "cell_type": "code",
   "execution_count": 122,
   "id": "6d92b1d8-951f-4e2c-b92d-05ba6804f247",
   "metadata": {},
   "outputs": [
    {
     "data": {
      "text/html": [
       "<div>\n",
       "<style scoped>\n",
       "    .dataframe tbody tr th:only-of-type {\n",
       "        vertical-align: middle;\n",
       "    }\n",
       "\n",
       "    .dataframe tbody tr th {\n",
       "        vertical-align: top;\n",
       "    }\n",
       "\n",
       "    .dataframe thead th {\n",
       "        text-align: right;\n",
       "    }\n",
       "</style>\n",
       "<table border=\"1\" class=\"dataframe\">\n",
       "  <thead>\n",
       "    <tr style=\"text-align: right;\">\n",
       "      <th></th>\n",
       "      <th>studio</th>\n",
       "      <th>employees</th>\n",
       "      <th>status</th>\n",
       "      <th>branches</th>\n",
       "      <th>has_syd_branch</th>\n",
       "    </tr>\n",
       "  </thead>\n",
       "  <tbody>\n",
       "    <tr>\n",
       "      <th>0</th>\n",
       "      <td>dneg</td>\n",
       "      <td>2043</td>\n",
       "      <td>active</td>\n",
       "      <td>[mtl, syd, mum]</td>\n",
       "      <td>True</td>\n",
       "    </tr>\n",
       "    <tr>\n",
       "      <th>1</th>\n",
       "      <td>ilm</td>\n",
       "      <td>1620</td>\n",
       "      <td>active</td>\n",
       "      <td>[lnd, van, syd]</td>\n",
       "      <td>True</td>\n",
       "    </tr>\n",
       "    <tr>\n",
       "      <th>2</th>\n",
       "      <td>framestore</td>\n",
       "      <td>1450</td>\n",
       "      <td>active</td>\n",
       "      <td>[mtl, lnd, mlb]</td>\n",
       "      <td>False</td>\n",
       "    </tr>\n",
       "    <tr>\n",
       "      <th>3</th>\n",
       "      <td>rodeo</td>\n",
       "      <td>850</td>\n",
       "      <td>active</td>\n",
       "      <td>[mtl, par]</td>\n",
       "      <td>False</td>\n",
       "    </tr>\n",
       "    <tr>\n",
       "      <th>4</th>\n",
       "      <td>mpc</td>\n",
       "      <td>0</td>\n",
       "      <td>closed</td>\n",
       "      <td>[]</td>\n",
       "      <td>False</td>\n",
       "    </tr>\n",
       "  </tbody>\n",
       "</table>\n",
       "</div>"
      ],
      "text/plain": [
       "       studio  employees  status         branches has_syd_branch\n",
       "0        dneg       2043  active  [mtl, syd, mum]           True\n",
       "1         ilm       1620  active  [lnd, van, syd]           True\n",
       "2  framestore       1450  active  [mtl, lnd, mlb]          False\n",
       "3       rodeo        850  active       [mtl, par]          False\n",
       "4         mpc          0  closed               []          False"
      ]
     },
     "execution_count": 122,
     "metadata": {},
     "output_type": "execute_result"
    }
   ],
   "source": [
    "vfx_studios"
   ]
  },
  {
   "cell_type": "code",
   "execution_count": 123,
   "id": "11fdf68d-c34b-4440-922e-d3f3a3efc096",
   "metadata": {},
   "outputs": [
    {
     "data": {
      "text/plain": [
       "<Axes: >"
      ]
     },
     "execution_count": 123,
     "metadata": {},
     "output_type": "execute_result"
    },
    {
     "data": {
      "image/png": "[encoded data removed]",
      "text/plain": [
       "<Figure size 640x480 with 1 Axes>"
      ]
     },
     "metadata": {},
     "output_type": "display_data"
    }
   ],
   "source": [
    "vfx_studios[\"employees\"].plot()"
   ]
  },
  {
   "cell_type": "code",
   "execution_count": 124,
   "id": "4485c3b4-6244-4f55-a69d-be8f9d3bd726",
   "metadata": {},
   "outputs": [
    {
     "data": {
      "text/plain": [
       "<Axes: >"
      ]
     },
     "execution_count": 124,
     "metadata": {},
     "output_type": "execute_result"
    },
    {
     "data": {
      "image/png": "[encoded data removed]",
      "text/plain": [
       "<Figure size 640x480 with 1 Axes>"
      ]
     },
     "metadata": {},
     "output_type": "display_data"
    }
   ],
   "source": [
    "vfx_studios[\"employees\"].hist()"
   ]
  },
  {
   "cell_type": "code",
   "execution_count": null,
   "id": "8a2a6025-1cbd-4066-8506-cd7332b4ad1d",
   "metadata": {},
   "outputs": [],
   "source": []
  }
 ],
 "metadata": {
  "kernelspec": {
   "display_name": "Python 3 (ipykernel)",
   "language": "python",
   "name": "python3"
  },
  "language_info": {
   "codemirror_mode": {
    "name": "ipython",
    "version": 3
   },
   "file_extension": ".py",
   "mimetype": "text/x-python",
   "name": "python",
   "nbconvert_exporter": "python",
   "pygments_lexer": "ipython3",
   "version": "3.12.7"
  }
 },
 "nbformat": 4,
 "nbformat_minor": 5
}
